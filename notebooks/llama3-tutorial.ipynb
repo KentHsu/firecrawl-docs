{
 "cells": [
  {
   "cell_type": "markdown",
   "metadata": {},
   "source": [
    "## Setup\n",
    "\n",
    "Ollama is a library for running open source LLMs locally.\n",
    "\n",
    "If you haven't already, download Ollama at (here)[https://ollama.com/]\n",
    "\n",
    "then, open your favorite terminal and run\n",
    "\n",
    "`ollama run llama3`"
   ]
  },
  {
   "cell_type": "markdown",
   "metadata": {},
   "source": [
    "Next, lets install our python dependencies, including langchain, faiss, ollama, and firecrawl-py"
   ]
  },
  {
   "cell_type": "code",
   "execution_count": null,
   "metadata": {},
   "outputs": [],
   "source": [
    "%pip install --upgrade --quiet langchain langchain-community faiss-cpu ollama firecrawl-py"
   ]
  },
  {
   "cell_type": "markdown",
   "metadata": {},
   "source": [
    "# Load website with Firecrawl"
   ]
  },
  {
   "cell_type": "code",
   "execution_count": 3,
   "metadata": {},
   "outputs": [
    {
     "data": {
      "text/plain": [
       "[Document(page_content='\\n\\n[🔥 FireCrawl](/)\\n\\n[Playground](/playground)\\n[Docs](https://docs.firecrawl.dev)\\n[Pricing](/pricing)\\n\\n[Log In](/signin)\\n[Log In](/signin)\\n[Sign Up](/signin/signup)\\n GitHub\\n\\n![Slack Logo](/images/slack_logo_icon.png)\\n\\nNew message in: #coach-gtm\\n==========================\\n\\n@CoachGTM: Your meeting prep for Pied Piper < > WindFlow Dynamics is ready! Meeting starts in 30 minutes\\n\\n[🦜🔗 Check out our LangChain integration](https://python.langchain.com/docs/integrations/document_loaders/firecrawl/)\\n\\nTurn websites into  \\n_LLM-ready_ data\\n=====================================\\n\\nCrawl and convert any website into clean markdown\\n\\nTry now (100 free credits)No credit card required\\n\\nA product by\\n\\n[![Mendable Logo](/images/mendable_logo_transparent.png)Mendable](https://mendable.ai)\\n\\n![Mendable Website Image](/mendable-hero-8.png)\\n\\nCrawl, Capture, Clean\\n---------------------\\n\\nWe crawl all accessible subpages and give you clean markdown for each. No sitemap required.\\n\\n    \\n      [\\\\\\n        {\\\\\\n          \"url\": \"https://www.mendable.ai/\",\\\\\\n          \"markdown\": \"## Welcome to Mendable\\\\\\n            Mendable empowers teams with AI-driven solutions - \\\\\\n            streamlining sales and support.\"\\\\\\n        },\\\\\\n        {\\\\\\n          \"url\": \"https://www.mendable.ai/features\",\\\\\\n          \"markdown\": \"## Features\\\\\\n            Discover how Mendable\\'s cutting-edge features can \\\\\\n            transform your business operations.\"\\\\\\n        },\\\\\\n        {\\\\\\n          \"url\": \"https://www.mendable.ai/pricing\",\\\\\\n          \"markdown\": \"## Pricing Plans\\\\\\n            Choose the perfect plan that fits your business needs.\"\\\\\\n        },\\\\\\n        {\\\\\\n          \"url\": \"https://www.mendable.ai/about\",\\\\\\n          \"markdown\": \"## About Us\\\\\\n          \\\\\\n            Learn more about Mendable\\'s mission and the \\\\\\n            team behind our innovative platform.\"\\\\\\n        },\\\\\\n        {\\\\\\n          \"url\": \"https://www.mendable.ai/contact\",\\\\\\n          \"markdown\": \"## Contact Us\\\\\\n            Get in touch with us for any queries or support.\"\\\\\\n        },\\\\\\n        {\\\\\\n          \"url\": \"https://www.mendable.ai/blog\",\\\\\\n          \"markdown\": \"## Blog\\\\\\n            Stay updated with the latest news and insights from Mendable.\"\\\\\\n        }\\\\\\n      ]\\n      \\n\\nNote: The markdown has been edited for display purposes.\\n\\nWe handle the hard stuff\\n------------------------\\n\\nProxies, caching, rate limits, js-blocked content and more...\\n\\n#### Crawling\\n\\nFireCrawl crawls all accessible subpages, even without a sitemap.\\n\\n#### Dynamic content\\n\\nFireCrawl gathers data even if a website uses javascript to render content.\\n\\n#### To Markdown\\n\\nFireCrawl returns clean, well formatted markdown - ready for use in LLM applications\\n\\n#### Crawling Orchestration\\n\\nFireCrawl orchestrates the crawling process in parallel for the fastest results.\\n\\n#### Caching\\n\\nFireCrawl caches content, so you don\\'t have to wait for a full scrape unless new content exists.\\n\\n#### Built for AI\\n\\nBuilt by LLM engineers, for LLM engineers. Giving you clean data the way you want it.\\n\\nPricing Plans\\n=============\\n\\nStarter\\n-------\\n\\n50k credits ($1.00/1k)\\n\\n$50/month\\n\\n*   Scrape 50,000 pages\\n*   Credits valid for 6 months\\n*   2 simultaneous scrapers\\\\*\\n\\nSubscribe\\n\\nStandard\\n--------\\n\\n500k credits ($0.75/1k)\\n\\n$375/month\\n\\n*   Scrape 500,000 pages\\n*   Credits valid for 6 months\\n*   4 simultaneous scrapers\\\\*\\n\\nSubscribe\\n\\nScale\\n-----\\n\\n2.5M credits ($0.50/1k)\\n\\n$1,250/month\\n\\n*   Scrape 2,500,000 pages\\n*   Credits valid for 6 months\\n*   10 simultaneous scrapes\\\\*\\n\\nSubscribe\\n\\n\\\\* a \"scraper\" refers to how many scraper jobs you can simultaneously submit.\\n\\nWhat sites work?\\n----------------\\n\\nFirecrawl is best suited for business websites, docs and help centers.\\n\\nBusiness websites\\n\\nGathering business intelligence or connecting company data to your AI\\n\\nBlogs, Documentation and Help centers\\n\\nGather content from documentation and other textual sources\\n\\nSocial Media\\n\\nComing soon\\n\\n![Feature 01](/_next/image?url=%2F_next%2Fstatic%2Fmedia%2Fexample-business-2.b6c6b56a.png&w=1920&q=75)\\n\\n![Feature 02](/_next/image?url=%2F_next%2Fstatic%2Fmedia%2Fexample-docs-sites.11eef02d.png&w=1920&q=75)\\n\\nComing Soon\\n-----------\\n\\n[But I want it now!](https://calendly.com/d/cp3d-rvx-58g/mendable-meeting)\\n\\\\* Schedule a meeting\\n\\n![Feature 04](/_next/image?url=%2F_next%2Fstatic%2Fmedia%2Fexample-business-2.b6c6b56a.png&w=1920&q=75)\\n\\n![Slack Logo](/images/slack_logo_icon.png)\\n\\nNew message in: #coach-gtm\\n==========================\\n\\n@CoachGTM: Your meeting prep for Pied Piper < > WindFlow Dynamics is ready! Meeting starts in 30 minutes\\n\\n[🔥](/)\\n\\nReady to _Build?_\\n-----------------\\n\\n[Meet with us](https://calendly.com/d/cp3d-rvx-58g/mendable-meeting)\\n\\n[Try 100 queries free](/signin)\\n\\n[Discord](https://discord.gg/gSmWdAkdwd)\\n\\nFAQ\\n---\\n\\nFrequently asked questions about FireCrawl\\n\\nWhat is FireCrawl?\\n\\nFireCrawl is an advanced web crawling and data conversion tool designed to transform any website into clean, LLM-ready markdown. Ideal for AI developers and data scientists, it automates the collection, cleaning, and formatting of web data, streamlining the preparation process for Large Language Model (LLM) applications.\\n\\nHow does FireCrawl handle dynamic content on websites?\\n\\nUnlike traditional web scrapers, FireCrawl is equipped to handle dynamic content rendered with JavaScript. It ensures comprehensive data collection from all accessible subpages, making it a reliable tool for scraping websites that rely heavily on JS for content delivery.\\n\\nWhy is it not crawling all the pages?\\n\\nThere are a few reasons why FireCrawl may not be able to crawl all the pages of a website. Some common reasons include rate limiting, and anti-scraping mechanisms, disallowing the crawler from accessing certain pages. If you\\'re experiencing issues with the crawler, please reach out to our support team at support@mendable.ai.\\n\\nCan FireCrawl crawl websites without a sitemap?\\n\\nYes, FireCrawl can access and crawl all accessible subpages of a website, even in the absence of a sitemap. This feature enables users to gather data from a wide array of web sources with minimal setup.\\n\\nWhat formats can FireCrawl convert web data into?\\n\\nFireCrawl specializes in converting web data into clean, well-formatted markdown. This format is particularly suited for LLM applications, offering a structured yet flexible way to represent web content.\\n\\nHow does FireCrawl ensure the cleanliness of the data?\\n\\nFireCrawl employs advanced algorithms to clean and structure the scraped data, removing unnecessary elements and formatting the content into readable markdown. This process ensures that the data is ready for use in LLM applications without further preprocessing.\\n\\nIs FireCrawl suitable for large-scale data scraping projects?\\n\\nAbsolutely. FireCrawl offers various pricing plans, including a Scale plan that supports scraping of millions of pages. With features like caching and scheduled syncs, it\\'s designed to efficiently handle large-scale data scraping and continuous updates, making it ideal for enterprises and large projects.\\n\\nIs FireCrawl open-source?\\n\\nYes, it is. You can check out the repository on [GitHub](https://github.com/mendableai/firecrawl)\\n. Keep in mind that this repository is currently in its early stages of development. We are in the process of merging custom modules into this mono repository.\\n\\nDoes it respect robots.txt?\\n\\nYes, FireCrawl crawler respects the rules set in a website\\'s robots.txt file. If you notice any issues with the way FireCrawl interacts with your website, you can adjust the robots.txt file to control the crawler\\'s behavior. Firecrawl user agent name is \"FireCrawlAgent\". If you notice any behavior that is not expected, please let us know at support@mendable.ai.\\n\\nWhat measures does FireCrawl take to handle web scraping challenges like rate limits and caching?\\n\\nFireCrawl is built to navigate common web scraping challenges, including reverse proxies, rate limits, and caching. It smartly manages requests and employs caching techniques to minimize bandwidth usage and avoid triggering anti-scraping mechanisms, ensuring reliable data collection.\\n\\nHow can I try FireCrawl?\\n\\nYou can start with FireCrawl by trying our free trial, which includes 100 pages. This trial allows you to experience firsthand how FireCrawl can streamline your data collection and conversion processes. Sign up and begin transforming web content into LLM-ready data today!\\n\\nWho can benefit from using FireCrawl?\\n\\nFireCrawl is tailored for LLM engineers, data scientists, AI researchers, and developers looking to harness web data for training machine learning models, market research, content aggregation, and more. It simplifies the data preparation process, allowing professionals to focus on insights and model development.\\n\\nHi, how can I help you?\\n\\n![](/fire-emoji.png)\\n\\n[🔥](/)\\n\\n© A product by Mendable.ai - All rights reserved.\\n\\n[Twitter](https://twitter.com/mendableai)\\n[GitHub](https://github.com/sideguide)\\n[Discord](https://discord.gg/gSmWdAkdwd)\\n\\nBacked by![Y Combinator Logo](/images/yc.svg)\\n\\n![SOC 2 Type II](/soc2type2badge.png)\\n\\n###### Company\\n\\n*   [About us](#0)\\n    \\n*   [Diversity & Inclusion](#0)\\n    \\n*   [Blog](#0)\\n    \\n*   [Careers](#0)\\n    \\n*   [Financial statements](#0)\\n    \\n\\n###### Resources\\n\\n*   [Community](#0)\\n    \\n*   [Terms of service](#0)\\n    \\n*   [Collaboration features](#0)\\n    \\n\\n###### Legals\\n\\n*   [Refund policy](#0)\\n    \\n*   [Terms & Conditions](#0)\\n    \\n*   [Privacy policy](#0)\\n    \\n*   [Brand Kit](#0)', metadata={'title': 'Home - FireCrawl', 'description': 'FireCrawl crawls and converts any website into clean markdown.', 'keywords': 'Firecrawl,Markdown,Data,Mendable,Langchain', 'robots': 'follow, index', 'ogTitle': 'FireCrawl', 'ogDescription': 'Turn any website into LLM-ready data.', 'ogImage': 'https://www.firecrawl.dev/og.png?123', 'sourceURL': 'https://firecrawl.dev/', 'sitemap': {'changefreq': 'hourly', 'priority': 1, 'lastmod': '2024-04-19T00:33:11.049Z'}}),\n",
       " Document(page_content='\\n\\n[🔥 FireCrawl](/)\\n\\n[Playground](/playground)\\n[Docs](https://docs.firecrawl.dev)\\n[Pricing](/pricing)\\n\\n[Log In](/signin)\\n[Log In](/signin)\\n[Sign Up](/signin/signup)\\n GitHub\\n\\nPricing Plans\\n=============\\n\\nStarter\\n-------\\n\\n50k credits ($1.00/1k)\\n\\n$50/month\\n\\n*   Scrape 50,000 pages\\n*   Credits valid for 6 months\\n*   2 simultaneous scrapers\\\\*\\n\\nSubscribe\\n\\nStandard\\n--------\\n\\n500k credits ($0.75/1k)\\n\\n$375/month\\n\\n*   Scrape 500,000 pages\\n*   Credits valid for 6 months\\n*   4 simultaneous scrapers\\\\*\\n\\nSubscribe\\n\\nScale\\n-----\\n\\n2.5M credits ($0.50/1k)\\n\\n$1,250/month\\n\\n*   Scrape 2,500,000 pages\\n*   Credits valid for 6 months\\n*   10 simultaneous scrapes\\\\*\\n\\nSubscribe\\n\\n\\\\* a \"scraper\" refers to how many scraper jobs you can simultaneously submit.\\n\\nHi, how can I help you?\\n\\n![](/fire-emoji.png)\\n\\n[🔥](/)\\n\\n© A product by Mendable.ai - All rights reserved.\\n\\n[Twitter](https://twitter.com/mendableai)\\n[GitHub](https://github.com/sideguide)\\n[Discord](https://discord.gg/gSmWdAkdwd)\\n\\nBacked by![Y Combinator Logo](/images/yc.svg)\\n\\n![SOC 2 Type II](/soc2type2badge.png)\\n\\n###### Company\\n\\n*   [About us](#0)\\n    \\n*   [Diversity & Inclusion](#0)\\n    \\n*   [Blog](#0)\\n    \\n*   [Careers](#0)\\n    \\n*   [Financial statements](#0)\\n    \\n\\n###### Resources\\n\\n*   [Community](#0)\\n    \\n*   [Terms of service](#0)\\n    \\n*   [Collaboration features](#0)\\n    \\n\\n###### Legals\\n\\n*   [Refund policy](#0)\\n    \\n*   [Terms & Conditions](#0)\\n    \\n*   [Privacy policy](#0)\\n    \\n*   [Brand Kit](#0)', metadata={'title': 'FireCrawl', 'description': 'Turn any website into LLM-ready data.', 'keywords': 'Firecrawl,Markdown,Data,Mendable,Langchain', 'robots': 'follow, index', 'ogTitle': 'FireCrawl', 'ogDescription': 'Turn any website into LLM-ready data.', 'ogImage': 'https://www.firecrawl.dev/og.png?123', 'sourceURL': 'https://firecrawl.dev/pricing', 'sitemap': {'changefreq': 'hourly', 'priority': 1, 'lastmod': '2024-04-19T00:33:11.049Z'}})]"
      ]
     },
     "execution_count": 3,
     "metadata": {},
     "output_type": "execute_result"
    }
   ],
   "source": [
    "from langchain_community.document_loaders import FireCrawlLoader  # Importing the FireCrawlLoader\n",
    "\n",
    "url = \"https://firecrawl.dev\"\n",
    "loader = FireCrawlLoader(\n",
    "    api_key=\"fc-YOUR_API_EY\", # Note: Replace 'YOUR_API_KEY' with your actual FireCrawl API key\n",
    "    url=url,  # Target URL to crawl\n",
    "    mode=\"crawl\"  # Mode set to 'crawl' to crawl all accessible subpages\n",
    ")\n",
    "docs = loader.load()"
   ]
  },
  {
   "cell_type": "code",
   "execution_count": 4,
   "metadata": {},
   "outputs": [],
   "source": [
    "from langchain_community.embeddings import OllamaEmbeddings\n",
    "from langchain_text_splitters import RecursiveCharacterTextSplitter\n",
    "from langchain_community.vectorstores import FAISS\n",
    "import ollama"
   ]
  },
  {
   "cell_type": "markdown",
   "metadata": {},
   "source": [
    "# Set up Vectorstore"
   ]
  },
  {
   "cell_type": "code",
   "execution_count": null,
   "metadata": {},
   "outputs": [],
   "source": [
    "text_splitter = RecursiveCharacterTextSplitter(chunk_size=1000, chunk_overlap=200)\n",
    "splits = text_splitter.split_documents(docs)\n",
    "vectorstore = FAISS.from_documents(documents=splits, embedding=OllamaEmbeddings())"
   ]
  },
  {
   "cell_type": "markdown",
   "metadata": {},
   "source": [
    "## Retrieval and Generation"
   ]
  },
  {
   "cell_type": "code",
   "execution_count": null,
   "metadata": {},
   "outputs": [],
   "source": [
    "question = \"What is firecrawl?\"\n",
    "docs = vectorstore.similarity_search(query=question)\n",
    "prompt = f\"\"\"You are a friendly assistant. You're job is to answer the users question based on the documentation provided below:\n",
    "  Docs:\n",
    "  \n",
    "  {docs}\n",
    "\n",
    "  Question: {question}\n",
    "\"\"\"\n",
    "response = ollama.chat(model='llama3:latest', messages=[\n",
    "  {\n",
    "    'role': 'user',\n",
    "    'content': prompt,\n",
    "  },\n",
    "])\n",
    "\n",
    "print(response['message']['content'])"
   ]
  }
 ],
 "metadata": {
  "kernelspec": {
   "display_name": "Python 3",
   "language": "python",
   "name": "python3"
  },
  "language_info": {
   "codemirror_mode": {
    "name": "ipython",
    "version": 3
   },
   "file_extension": ".py",
   "mimetype": "text/x-python",
   "name": "python",
   "nbconvert_exporter": "python",
   "pygments_lexer": "ipython3",
   "version": "3.9.6"
  }
 },
 "nbformat": 4,
 "nbformat_minor": 2
}
